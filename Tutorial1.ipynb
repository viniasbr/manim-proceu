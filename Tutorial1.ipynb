{
 "cells": [
  {
   "cell_type": "markdown",
   "id": "2039199e-6c0c-494d-8eef-d903434af889",
   "metadata": {},
   "source": [
    "# Tutorial 1\n",
    "Os notebooks Tutorial*.ipynb são referentes à série de tutoriais do Brian Amadee, no [YouTube](https://www.youtube.com/playlist?list=PLWOlLjdyZm2NQD1YZmEPB0dwbd0yKINAT)."
   ]
  },
  {
   "cell_type": "code",
   "execution_count": 64,
   "id": "55db5692-9679-4d9c-9b0d-df1d5d81c8b5",
   "metadata": {
    "tags": []
   },
   "outputs": [],
   "source": [
    "from manim import *\n",
    "import numpy as np"
   ]
  },
  {
   "cell_type": "markdown",
   "id": "3fefc513-1767-471a-a5db-b6741eef6f45",
   "metadata": {},
   "source": [
    "Movendo uma caixa:"
   ]
  },
  {
   "cell_type": "code",
   "execution_count": 65,
   "id": "217b3fa3-5878-425c-acbf-73277be19c87",
   "metadata": {
    "tags": []
   },
   "outputs": [
    {
     "name": "stderr",
     "output_type": "stream",
     "text": [
      "                                                                                          \r"
     ]
    },
    {
     "data": {
      "text/html": [
       "<video src=\"media/jupyter/MovendoCaixa@2024-03-09@01-56-51.mp4\" controls autoplay loop style=\"max-width: 60%;\"  >\n",
       "      Your browser does not support the <code>video</code> element.\n",
       "    </video>"
      ],
      "text/plain": [
       "<IPython.core.display.Video object>"
      ]
     },
     "metadata": {},
     "output_type": "display_data"
    }
   ],
   "source": [
    "%%manim -qm -v WARNING MovendoCaixa\n",
    "\n",
    "class MovendoCaixa(Scene):\n",
    "    def construct(self):\n",
    "        \n",
    "        caixa = Rectangle(stroke_color = BLACK, stroke_opacity = 1, fill_color = RED, fill_opacity = 1, height = 1, width = 1)\n",
    "        \n",
    "        self.camera.background_color= \"#F5F5DC\"\n",
    "        \n",
    "        self.add(caixa)\n",
    "        self.play(caixa.animate.shift(RIGHT*2), run_time = 2)\n",
    "        self.play(caixa.animate.shift(UP*3), run_time = 2)\n",
    "        self.play(caixa.animate.shift(5*(DOWN+LEFT)), run_time = 2)\n",
    "        self.play(caixa.animate.shift(UP*2 + RIGHT*3), run_time = 2)"
   ]
  },
  {
   "cell_type": "markdown",
   "id": "c4ee49ef-a939-445c-97d0-92fe4b5c7a2a",
   "metadata": {},
   "source": [
    "Agora, movendo e transformando outros objetos:"
   ]
  },
  {
   "cell_type": "code",
   "execution_count": 66,
   "id": "a3d06cec-fa99-4580-8494-aeca806d9447",
   "metadata": {
    "tags": []
   },
   "outputs": [
    {
     "name": "stderr",
     "output_type": "stream",
     "text": [
      "                                                                                           \r"
     ]
    },
    {
     "data": {
      "text/html": [
       "<video src=\"media/jupyter/MovendoTransformando@2024-03-09@01-56-56.mp4\" controls autoplay loop style=\"max-width: 60%;\"  >\n",
       "      Your browser does not support the <code>video</code> element.\n",
       "    </video>"
      ],
      "text/plain": [
       "<IPython.core.display.Video object>"
      ]
     },
     "metadata": {},
     "output_type": "display_data"
    }
   ],
   "source": [
    "%%manim -qm -v WARNING MovendoTransformando\n",
    "\n",
    "class MovendoTransformando(Scene):\n",
    "    def construct(self):\n",
    "        \n",
    "        self.camera.background_color= \"#F5F5DC\"\n",
    "        \n",
    "        eixos = Axes(x_range=[-3,3,1], y_range=[-3,3,1], x_length = 6, y_length = 6)\n",
    "        eixos.set(color = BLACK)\n",
    "        eixos.to_edge(LEFT, buff = 1)\n",
    "        \n",
    "        circulo = Circle(stroke_width = 6, stroke_color = BLACK, fill_color = BLUE_E, fill_opacity = 0.8)\n",
    "        circulo.set(width=2).to_edge(DR, buff = 0.5)\n",
    "        \n",
    "        triangulo = Triangle(stroke_color = RED, stroke_width = 10, fill_opacity = 0).set(height=2).shift(3*(DOWN+RIGHT))\n",
    "        \n",
    "        self.play(Write(eixos))\n",
    "        self.play(DrawBorderThenFill(circulo))\n",
    "        self.play(circulo.animate.set_width(1))\n",
    "        self.play(Transform(circulo, triangulo), run_time = 3)"
   ]
  },
  {
   "cell_type": "code",
   "execution_count": null,
   "id": "aed58a1d",
   "metadata": {},
   "outputs": [],
   "source": []
  }
 ],
 "metadata": {
  "kernelspec": {
   "display_name": "Python 3 (ipykernel)",
   "language": "python",
   "name": "python3"
  },
  "language_info": {
   "codemirror_mode": {
    "name": "ipython",
    "version": 3
   },
   "file_extension": ".py",
   "mimetype": "text/x-python",
   "name": "python",
   "nbconvert_exporter": "python",
   "pygments_lexer": "ipython3",
   "version": "3.11.8"
  }
 },
 "nbformat": 4,
 "nbformat_minor": 5
}
