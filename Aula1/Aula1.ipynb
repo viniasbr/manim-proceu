{
 "cells": [
  {
   "cell_type": "code",
   "execution_count": 1,
   "metadata": {},
   "outputs": [
    {
     "data": {
      "text/html": [
       "<pre style=\"white-space:pre;overflow-x:auto;line-height:normal;font-family:Menlo,'DejaVu Sans Mono',consolas,'Courier New',monospace\">Manim Community <span style=\"color: #008000; text-decoration-color: #008000\">v0.17.3</span>\n",
       "\n",
       "</pre>\n"
      ],
      "text/plain": [
       "Manim Community \u001b[32mv0.\u001b[0m\u001b[32m17.3\u001b[0m\n",
       "\n"
      ]
     },
     "metadata": {},
     "output_type": "display_data"
    }
   ],
   "source": [
    "from manim import *\n",
    "import numpy as np"
   ]
  },
  {
   "cell_type": "code",
   "execution_count": null,
   "metadata": {},
   "outputs": [],
   "source": [
    "%%manim -qh -v WARNING VelocidadeMedia\n",
    "\n",
    "def logistic(x):\n",
    "        return 1/(1+np.exp(-x))\n",
    "\n",
    "class VelocidadeMedia(Scene):\n",
    "    def construct(self):\n",
    "        \n",
    "        self.camera.background_color= \"#F5F5DC\"\n",
    "        \n",
    "        \n",
    "        t = ValueTracker(0)\n",
    "        \n",
    "        s_i=-5\n",
    "        s_f=5\n",
    "        \n",
    "        \n",
    "        reta = NumberLine([0,10,1],include_tip=False,include_numbers=True).set(color=BLACK).shift(1.5*DOWN)\n",
    "        \n",
    "        movel = LabeledDot(MathTex(\"m\").set(color=RED_D),color=BLACK).move_to(reta.get_start()+[0,1,0])\n",
    "        \n",
    "        tempo = always_redraw(lambda: MathTex(\"t = \"+format(t.get_value(),\".1f\")+\"s\").set(color=BLACK).to_corner(UR,buff=1))\n",
    "        \n",
    "        movel.add_updater(lambda x: x.move_to(\n",
    "            \n",
    "            \n",
    "            (1-(logistic(t.get_value()-5)/(logistic(s_f)-logistic(s_i))))*reta.get_start() + (logistic(t.get_value()-5)/(logistic(s_f)-logistic(s_i)))*reta.get_end()\n",
    "            + [0,1,0]\n",
    "            \n",
    "            \n",
    "            ))\n",
    "        \n",
    "        tempo_1 = MathTex(\"t_1=4.0s\",color=BLACK).to_corner(UL)\n",
    "        tempo_2 = MathTex(\"t_2=6.0s\",color=BLACK).move_to(tempo_1.get_center()+3*RIGHT)\n",
    "        \n",
    "        self.play(Write(reta))\n",
    "        self.play(DrawBorderThenFill(movel))\n",
    "        self.play(Write(tempo))\n",
    "        \n",
    "        self.play(t.animate.set_value(10),run_time=10,rate_func = linear)\n",
    "        \n",
    "        self.play(FadeOut(movel))\n",
    "        \n",
    "        t.set_value(0)\n",
    "        \n",
    "        self.play(DrawBorderThenFill(movel))\n",
    "        \n",
    "        self.play(t.animate.set_value(4),run_time=4,rate_func = linear)\n",
    "        self.wait(1)\n",
    "        tempo_copia1 = tempo.copy()\n",
    "        self.play(tempo_copia1.animate.to_corner(UL))\n",
    "        self.play(Transform(tempo_copia1,tempo_1))\n",
    "        reta_s1 = DashedLine(start = movel.get_bottom(), end = reta.get_projection(movel.get_bottom()),color = BLACK)\n",
    "        label_s1 = MathTex(\"s_1=\"+format(10*(logistic(t.get_value()-5)/(logistic(s_f)-logistic(s_i))),\".1f\")+\"m\",color = BLACK).move_to(reta_s1.get_end()+DOWN)\n",
    "        s1_dot = Dot(reta_s1.get_end(),color=BLACK)\n",
    "        self.play(Create(reta_s1))\n",
    "        self.play(FadeIn(s1_dot))\n",
    "        self.play(Write(label_s1))\n",
    "        self.play(label_s1.animate.next_to(tempo_1, DOWN))\n",
    "        movel2 = movel.copy()\n",
    "        movel.set_opacity(0.7)\n",
    "        self.add(movel2)\n",
    "        movel.clear_updaters()\n",
    "        self.play(t.animate.set_value(6),run_time=2,rate_func = linear)\n",
    "        tempo_copia2 = tempo.copy()\n",
    "        self.play(tempo_copia2.animate.move_to(tempo_1.get_center()+3*RIGHT))\n",
    "        self.play(Transform(tempo_copia2,tempo_2))\n",
    "        reta_s2 = DashedLine(start = movel2.get_bottom(), end = reta.get_projection(movel2.get_bottom()),color = BLACK)\n",
    "        label_s2 = MathTex(\"s_2=\"+format(10*(logistic(t.get_value()-5)/(logistic(s_f)-logistic(s_i))),\".1f\")+\"m\",color = BLACK).move_to(reta_s2.get_end()+DOWN)\n",
    "        s2_dot = Dot(reta_s2.get_end(),color=BLACK)\n",
    "        self.play(Create(reta_s2))\n",
    "        self.play(FadeIn(s2_dot))\n",
    "        self.play(Write(label_s2))\n",
    "        self.play(label_s2.animate.next_to(tempo_2, DOWN))\n",
    "        eq1 = MathTex(\"v_m=\\\\frac{ s_2 - s_1 }{ t_2 - t_1 }\",color = BLACK).to_edge(LEFT,buff = 1).shift(UP)\n",
    "        eq2 = MathTex(\"v_m=\\\\frac{ 7.4m - 2.7m }{ 6.0s - 4.0s }\",color = BLACK).to_edge(LEFT,buff = 1).shift(UP)\n",
    "        eq3 = MathTex(\"v_m=\\\\frac{4.7m}{2.0s}\",color = BLACK).to_edge(LEFT,buff = 1).shift(UP)\n",
    "        eq4 = MathTex(\"v_m=2.35\\\\frac{m}{s}\",color = BLACK).to_edge(LEFT,buff = 1).shift(UP)\n",
    "        eq5 = MathTex(\"v_m=2.35m/s\",color = BLACK).to_edge(LEFT,buff = 1).shift(UP)\n",
    "        movel3 = movel2.copy()\n",
    "        movel2.set_opacity(0.7)\n",
    "        self.add(movel3)\n",
    "        movel2.clear_updaters()\n",
    "        self.play(t.animate.set_value(10),run_time=4,rate_func = linear)\n",
    "        self.play(FadeOut(movel3))\n",
    "        self.play(FadeOut(tempo))\n",
    "        self.play(Write(eq1))\n",
    "        self.wait(3)\n",
    "        self.play(ReplacementTransform(eq1,eq2))\n",
    "        self.wait(3)\n",
    "        self.play(ReplacementTransform(eq2,eq3))\n",
    "        self.wait(3)\n",
    "        self.play(ReplacementTransform(eq3,eq4))\n",
    "        self.wait(3)\n",
    "        self.play(ReplacementTransform(eq4,eq5))\n",
    "        self.wait(3)\n",
    "        reta_entre_movel = DashedLine(start = movel.get_right(), end = movel2.get_left(),color = BLACK)\n",
    "        self.play(Create(reta_entre_movel),run_time=2)\n",
    "        self.play(eq5.animate.next_to(reta_entre_movel,UP),run_time=2)\n",
    "        self.wait(5)"
   ]
  },
  {
   "cell_type": "code",
   "execution_count": null,
   "metadata": {},
   "outputs": [],
   "source": []
  }
 ],
 "metadata": {
  "kernelspec": {
   "display_name": "Python 3",
   "language": "python",
   "name": "python3"
  },
  "language_info": {
   "codemirror_mode": {
    "name": "ipython",
    "version": 3
   },
   "file_extension": ".py",
   "mimetype": "text/x-python",
   "name": "python",
   "nbconvert_exporter": "python",
   "pygments_lexer": "ipython3",
   "version": "3.11.8"
  }
 },
 "nbformat": 4,
 "nbformat_minor": 2
}
